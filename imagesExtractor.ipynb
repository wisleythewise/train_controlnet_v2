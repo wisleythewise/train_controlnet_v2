{
 "cells": [
  {
   "cell_type": "code",
   "execution_count": 1,
   "metadata": {},
   "outputs": [
    {
     "name": "stdout",
     "output_type": "stream",
     "text": [
      "======\n",
      "Loading nuImages tables for version v1.0-train...\n",
      "Done loading in 0.001 seconds (lazy=True).\n",
      "======\n"
     ]
    }
   ],
   "source": [
    "from nuimages import NuImages\n",
    "dataroot = 'D:/nulimages_data/nuimages-v1.0-all-metadata'\n",
    "\n",
    "nuim = NuImages(dataroot= dataroot, version='v1.0-train', verbose=True, lazy=True)"
   ]
  },
  {
   "cell_type": "code",
   "execution_count": null,
   "metadata": {},
   "outputs": [],
   "source": [
    "\"n010-2018-07-05-16-18-46+0800__CAM_BACK__1530779064687257\""
   ]
  },
  {
   "cell_type": "code",
   "execution_count": 8,
   "metadata": {},
   "outputs": [
    {
     "name": "stdout",
     "output_type": "stream",
     "text": [
      "n013-2018-08-28-16-04-27+0800__CAM_BACK__1535443536537005.png\n",
      "n013-2018-08-16-14-35-35+0800__CAM_BACK__1534401379287005.png\n",
      "n014-2018-06-25-21-03-46-0400__CAM_BACK__1529975641687490.png\n",
      "n014-2018-06-20-21-35-24-0400__CAM_BACK__1529545322187420.png\n",
      "n003-2018-01-04-11-37-37+0800__CAM_BACK__1515037349476719.png\n",
      "n003-2018-01-03-17-00-35+0800__CAM_BACK__1514970558616022.png\n",
      "n015-2018-09-05-12-12-46+0800__CAM_BACK__1536121561537525.png\n",
      "n015-2018-09-11-16-03-43+0800__CAM_BACK__1536653090137525.png\n",
      "n003-2018-01-03-12-03-23+0800__CAM_BACK__1514952751082970.png\n",
      "n013-2018-07-31-16-50-57+0800__CAM_BACK__1533027300187005.png\n",
      "n013-2018-08-23-10-53-46+0800__CAM_BACK__1534993487287005.png\n",
      "n008-2018-05-30-15-20-59-0400__CAM_BACK__1527708364787570.png\n",
      "n010-2018-07-05-16-18-46+0800__CAM_BACK__1530779064687257.png\n",
      "n014-2018-06-20-21-35-24-0400__CAM_BACK__1529545382937420.png\n",
      "n013-2018-08-01-16-46-39+0800__CAM_BACK__1533113536787005.png\n",
      "n008-2018-05-21-11-06-59-0400__CAM_BACK__1526915765637570.png\n",
      "n013-2018-08-16-16-15-38+0800__CAM_BACK__1534407456387005.png\n",
      "n013-2018-08-01-16-46-39+0800__CAM_BACK__1533113257887005.png\n",
      "n010-2018-07-03-13-47-15+0800__CAM_BACK__1530597614537257.png\n",
      "n013-2018-08-01-16-46-39+0800__CAM_BACK__1533113592037005.png\n",
      "n003-2018-01-05-16-07-19+0800__CAM_BACK__1515140124810736.png\n",
      "n015-2018-09-13-14-31-46+0800__CAM_BACK__1536820371187525.png\n",
      "n014-2018-06-20-21-35-24-0400__CAM_BACK__1529545150537420.png\n",
      "n013-2018-08-21-11-46-25+0800__CAM_BACK__1534823539187005.png\n",
      "n003-2018-01-03-14-16-47+0800__CAM_BACK__1514960711578334.png\n",
      "n013-2018-08-21-10-39-45+0800__CAM_BACK__1534819673037005.png\n",
      "n013-2018-07-31-12-08-43+0800__CAM_BACK__1533010664787005.png\n",
      "n013-2018-08-28-16-15-21+0800__CAM_BACK__1535444542937005.png\n",
      "n008-2018-09-14-13-40-23-0400__CAM_BACK__1536947278687558.png\n",
      "n003-2018-01-04-11-23-25+0800__CAM_BACK__1515036319519402.png\n",
      "n008-2018-06-05-11-43-04-0400__CAM_BACK__1528213700387570.png\n",
      "n008-2018-07-27-11-24-50-0400__CAM_BACK__1532705300637558.png\n",
      "n003-2018-01-03-15-21-35+0800__CAM_BACK__1514964329136648.png\n",
      "n013-2018-08-17-11-41-53+0800__CAM_BACK__1534477381137005.png\n",
      "n015-2018-07-11-14-25-26+0800__CAM_BACK__1531290462637525.png\n",
      "n008-2018-09-12-09-40-16-0400__CAM_BACK__1536760446187558.png\n",
      "n003-2018-01-04-11-23-25+0800__CAM_BACK__1515036339686861.png\n",
      "n008-2018-03-02-10-34-21-0500__CAM_BACK__1520005948223502.png\n",
      "n016-2018-07-11-11-07-11+0800__CAM_BACK__1531278994137551.png\n",
      "n013-2018-08-28-11-31-30+0800__CAM_BACK__1535427449387005.png\n",
      "n003-2018-01-04-11-23-25+0800__CAM_BACK__1515036279267804.png\n",
      "n008-2018-06-05-11-43-04-0400__CAM_BACK__1528214336387570.png\n"
     ]
    },
    {
     "ename": "KeyboardInterrupt",
     "evalue": "",
     "output_type": "error",
     "traceback": [
      "\u001b[1;31m---------------------------------------------------------------------------\u001b[0m",
      "\u001b[1;31mAttributeError\u001b[0m                            Traceback (most recent call last)",
      "File \u001b[1;32mc:\\Users\\z004v4ht\\AppData\\Local\\miniconda3\\envs\\diffusers\\lib\\site-packages\\PIL\\ImageFile.py:536\u001b[0m, in \u001b[0;36m_save\u001b[1;34m(im, fp, tile, bufsize)\u001b[0m\n\u001b[0;32m    535\u001b[0m \u001b[38;5;28;01mtry\u001b[39;00m:\n\u001b[1;32m--> 536\u001b[0m     fh \u001b[38;5;241m=\u001b[39m \u001b[43mfp\u001b[49m\u001b[38;5;241;43m.\u001b[39;49m\u001b[43mfileno\u001b[49m()\n\u001b[0;32m    537\u001b[0m     fp\u001b[38;5;241m.\u001b[39mflush()\n",
      "\u001b[1;31mAttributeError\u001b[0m: '_idat' object has no attribute 'fileno'",
      "\nDuring handling of the above exception, another exception occurred:\n",
      "\u001b[1;31mKeyboardInterrupt\u001b[0m                         Traceback (most recent call last)",
      "Cell \u001b[1;32mIn[8], line 24\u001b[0m\n\u001b[0;32m     22\u001b[0m filename \u001b[38;5;241m=\u001b[39m sample_token[\u001b[38;5;124m'\u001b[39m\u001b[38;5;124mfilename\u001b[39m\u001b[38;5;124m'\u001b[39m]\u001b[38;5;241m.\u001b[39msplit(\u001b[38;5;124m'\u001b[39m\u001b[38;5;124m/\u001b[39m\u001b[38;5;124m'\u001b[39m)[\u001b[38;5;241m-\u001b[39m\u001b[38;5;241m1\u001b[39m]\u001b[38;5;241m.\u001b[39msplit(\u001b[38;5;124m'\u001b[39m\u001b[38;5;124m.\u001b[39m\u001b[38;5;124m'\u001b[39m)[\u001b[38;5;241m0\u001b[39m] \u001b[38;5;241m+\u001b[39m \u001b[38;5;124m'\u001b[39m\u001b[38;5;124m.png\u001b[39m\u001b[38;5;124m'\u001b[39m\n\u001b[0;32m     23\u001b[0m \u001b[38;5;28mprint\u001b[39m(filename)\n\u001b[1;32m---> 24\u001b[0m \u001b[43mimg\u001b[49m\u001b[38;5;241;43m.\u001b[39;49m\u001b[43msave\u001b[49m\u001b[43m(\u001b[49m\u001b[38;5;124;43m'\u001b[39;49m\u001b[38;5;124;43mD:/nulimages_data/validate/groundTruth/\u001b[39;49m\u001b[38;5;124;43m'\u001b[39;49m\u001b[43m \u001b[49m\u001b[38;5;241;43m+\u001b[39;49m\u001b[43m \u001b[49m\u001b[43mfilename\u001b[49m\u001b[43m)\u001b[49m\n",
      "File \u001b[1;32mc:\\Users\\z004v4ht\\AppData\\Local\\miniconda3\\envs\\diffusers\\lib\\site-packages\\PIL\\Image.py:2439\u001b[0m, in \u001b[0;36mImage.save\u001b[1;34m(self, fp, format, **params)\u001b[0m\n\u001b[0;32m   2436\u001b[0m         fp \u001b[38;5;241m=\u001b[39m builtins\u001b[38;5;241m.\u001b[39mopen(filename, \u001b[38;5;124m\"\u001b[39m\u001b[38;5;124mw+b\u001b[39m\u001b[38;5;124m\"\u001b[39m)\n\u001b[0;32m   2438\u001b[0m \u001b[38;5;28;01mtry\u001b[39;00m:\n\u001b[1;32m-> 2439\u001b[0m     \u001b[43msave_handler\u001b[49m\u001b[43m(\u001b[49m\u001b[38;5;28;43mself\u001b[39;49m\u001b[43m,\u001b[49m\u001b[43m \u001b[49m\u001b[43mfp\u001b[49m\u001b[43m,\u001b[49m\u001b[43m \u001b[49m\u001b[43mfilename\u001b[49m\u001b[43m)\u001b[49m\n\u001b[0;32m   2440\u001b[0m \u001b[38;5;28;01mexcept\u001b[39;00m \u001b[38;5;167;01mException\u001b[39;00m:\n\u001b[0;32m   2441\u001b[0m     \u001b[38;5;28;01mif\u001b[39;00m open_fp:\n",
      "File \u001b[1;32mc:\\Users\\z004v4ht\\AppData\\Local\\miniconda3\\envs\\diffusers\\lib\\site-packages\\PIL\\PngImagePlugin.py:1402\u001b[0m, in \u001b[0;36m_save\u001b[1;34m(im, fp, filename, chunk, save_all)\u001b[0m\n\u001b[0;32m   1398\u001b[0m     im \u001b[38;5;241m=\u001b[39m _write_multiple_frames(\n\u001b[0;32m   1399\u001b[0m         im, fp, chunk, rawmode, default_image, append_images\n\u001b[0;32m   1400\u001b[0m     )\n\u001b[0;32m   1401\u001b[0m \u001b[38;5;28;01mif\u001b[39;00m im:\n\u001b[1;32m-> 1402\u001b[0m     \u001b[43mImageFile\u001b[49m\u001b[38;5;241;43m.\u001b[39;49m\u001b[43m_save\u001b[49m\u001b[43m(\u001b[49m\u001b[43mim\u001b[49m\u001b[43m,\u001b[49m\u001b[43m \u001b[49m\u001b[43m_idat\u001b[49m\u001b[43m(\u001b[49m\u001b[43mfp\u001b[49m\u001b[43m,\u001b[49m\u001b[43m \u001b[49m\u001b[43mchunk\u001b[49m\u001b[43m)\u001b[49m\u001b[43m,\u001b[49m\u001b[43m \u001b[49m\u001b[43m[\u001b[49m\u001b[43m(\u001b[49m\u001b[38;5;124;43m\"\u001b[39;49m\u001b[38;5;124;43mzip\u001b[39;49m\u001b[38;5;124;43m\"\u001b[39;49m\u001b[43m,\u001b[49m\u001b[43m \u001b[49m\u001b[43m(\u001b[49m\u001b[38;5;241;43m0\u001b[39;49m\u001b[43m,\u001b[49m\u001b[43m \u001b[49m\u001b[38;5;241;43m0\u001b[39;49m\u001b[43m)\u001b[49m\u001b[43m \u001b[49m\u001b[38;5;241;43m+\u001b[39;49m\u001b[43m \u001b[49m\u001b[43mim\u001b[49m\u001b[38;5;241;43m.\u001b[39;49m\u001b[43msize\u001b[49m\u001b[43m,\u001b[49m\u001b[43m \u001b[49m\u001b[38;5;241;43m0\u001b[39;49m\u001b[43m,\u001b[49m\u001b[43m \u001b[49m\u001b[43mrawmode\u001b[49m\u001b[43m)\u001b[49m\u001b[43m]\u001b[49m\u001b[43m)\u001b[49m\n\u001b[0;32m   1404\u001b[0m \u001b[38;5;28;01mif\u001b[39;00m info:\n\u001b[0;32m   1405\u001b[0m     \u001b[38;5;28;01mfor\u001b[39;00m info_chunk \u001b[38;5;129;01min\u001b[39;00m info\u001b[38;5;241m.\u001b[39mchunks:\n",
      "File \u001b[1;32mc:\\Users\\z004v4ht\\AppData\\Local\\miniconda3\\envs\\diffusers\\lib\\site-packages\\PIL\\ImageFile.py:540\u001b[0m, in \u001b[0;36m_save\u001b[1;34m(im, fp, tile, bufsize)\u001b[0m\n\u001b[0;32m    538\u001b[0m     _encode_tile(im, fp, tile, bufsize, fh)\n\u001b[0;32m    539\u001b[0m \u001b[38;5;28;01mexcept\u001b[39;00m (\u001b[38;5;167;01mAttributeError\u001b[39;00m, io\u001b[38;5;241m.\u001b[39mUnsupportedOperation) \u001b[38;5;28;01mas\u001b[39;00m exc:\n\u001b[1;32m--> 540\u001b[0m     \u001b[43m_encode_tile\u001b[49m\u001b[43m(\u001b[49m\u001b[43mim\u001b[49m\u001b[43m,\u001b[49m\u001b[43m \u001b[49m\u001b[43mfp\u001b[49m\u001b[43m,\u001b[49m\u001b[43m \u001b[49m\u001b[43mtile\u001b[49m\u001b[43m,\u001b[49m\u001b[43m \u001b[49m\u001b[43mbufsize\u001b[49m\u001b[43m,\u001b[49m\u001b[43m \u001b[49m\u001b[38;5;28;43;01mNone\u001b[39;49;00m\u001b[43m,\u001b[49m\u001b[43m \u001b[49m\u001b[43mexc\u001b[49m\u001b[43m)\u001b[49m\n\u001b[0;32m    541\u001b[0m \u001b[38;5;28;01mif\u001b[39;00m \u001b[38;5;28mhasattr\u001b[39m(fp, \u001b[38;5;124m\"\u001b[39m\u001b[38;5;124mflush\u001b[39m\u001b[38;5;124m\"\u001b[39m):\n\u001b[0;32m    542\u001b[0m     fp\u001b[38;5;241m.\u001b[39mflush()\n",
      "File \u001b[1;32mc:\\Users\\z004v4ht\\AppData\\Local\\miniconda3\\envs\\diffusers\\lib\\site-packages\\PIL\\ImageFile.py:559\u001b[0m, in \u001b[0;36m_encode_tile\u001b[1;34m(im, fp, tile, bufsize, fh, exc)\u001b[0m\n\u001b[0;32m    556\u001b[0m \u001b[38;5;28;01mif\u001b[39;00m exc:\n\u001b[0;32m    557\u001b[0m     \u001b[38;5;66;03m# compress to Python file-compatible object\u001b[39;00m\n\u001b[0;32m    558\u001b[0m     \u001b[38;5;28;01mwhile\u001b[39;00m \u001b[38;5;28;01mTrue\u001b[39;00m:\n\u001b[1;32m--> 559\u001b[0m         errcode, data \u001b[38;5;241m=\u001b[39m \u001b[43mencoder\u001b[49m\u001b[38;5;241;43m.\u001b[39;49m\u001b[43mencode\u001b[49m\u001b[43m(\u001b[49m\u001b[43mbufsize\u001b[49m\u001b[43m)\u001b[49m[\u001b[38;5;241m1\u001b[39m:]\n\u001b[0;32m    560\u001b[0m         fp\u001b[38;5;241m.\u001b[39mwrite(data)\n\u001b[0;32m    561\u001b[0m         \u001b[38;5;28;01mif\u001b[39;00m errcode:\n",
      "\u001b[1;31mKeyboardInterrupt\u001b[0m: "
     ]
    }
   ],
   "source": [
    "from PIL import Image \n",
    "import matplotlib.pyplot as plt\n",
    "\n",
    "import os\n",
    "filenames = os.listdir('D:/nulimages_data/train/groundTruth')\n",
    "\n",
    "for sample in nuim.sample:\n",
    "    \n",
    "    sample_token = nuim.get('sample_data', sample['key_camera_token'])\n",
    "    filename = sample_token['filename'].split('/')[-1].split('.')[0] + '.png'\n",
    "\n",
    "    # if filename in \"n010-2018-07-05-16-18-46+0800__CAM_BACK__1530779064687257\":\n",
    "    #     print(\"fjoasdflaksdf\")\n",
    "    \n",
    "    condition = \"BACK\" in filename and \"LEFT\" not in filename and \"RIGHT\" not in filename\n",
    "    if not condition:\n",
    "        continue\n",
    "\n",
    "    # copy image to D:\\nulimages_data\\images\n",
    "    img = Image.open(dataroot + \"/\" + sample_token['filename'])\n",
    "\n",
    "    filename = sample_token['filename'].split('/')[-1].split('.')[0] + '.png'\n",
    "    print(filename)\n",
    "    img.save('D:/nulimages_data/validate/groundTruth/' + filename)"
   ]
  },
  {
   "cell_type": "code",
   "execution_count": null,
   "metadata": {},
   "outputs": [],
   "source": [
    "import matplotlib.pyplot as plt\n",
    "key_camera_token = nuim.sample[0]['key_camera_token']\n",
    "semantic_mask, instance_mask = nuim.get_segmentation(key_camera_token)\n",
    "\n",
    "plt.figure(figsize=(32, 9))\n",
    "\n",
    "plt.subplot(1, 2, 1)\n",
    "plt.imshow(semantic_mask)\n",
    "plt.subplot(1, 2, 2)\n",
    "plt.imshow(instance_mask)\n",
    "\n",
    "# save image\n"
   ]
  }
 ],
 "metadata": {
  "kernelspec": {
   "display_name": "diffusers",
   "language": "python",
   "name": "python3"
  },
  "language_info": {
   "codemirror_mode": {
    "name": "ipython",
    "version": 3
   },
   "file_extension": ".py",
   "mimetype": "text/x-python",
   "name": "python",
   "nbconvert_exporter": "python",
   "pygments_lexer": "ipython3",
   "version": "3.8.18"
  }
 },
 "nbformat": 4,
 "nbformat_minor": 2
}
