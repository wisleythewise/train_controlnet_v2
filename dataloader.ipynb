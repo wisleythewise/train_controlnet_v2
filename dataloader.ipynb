{
 "cells": [
  {
   "cell_type": "code",
   "execution_count": 4,
   "metadata": {},
   "outputs": [
    {
     "ename": "AttributeError",
     "evalue": "'DiffusionDataset' object has no attribute 'column_names'",
     "output_type": "error",
     "traceback": [
      "\u001b[0;31m---------------------------------------------------------------------------\u001b[0m",
      "\u001b[0;31mAttributeError\u001b[0m                            Traceback (most recent call last)",
      "Cell \u001b[0;32mIn[4], line 87\u001b[0m\n\u001b[1;32m     77\u001b[0m train_dataset \u001b[38;5;241m=\u001b[39m DiffusionDataset(json_path\u001b[38;5;241m=\u001b[39m\u001b[38;5;124m'\u001b[39m\u001b[38;5;124m/home/wisley/custom_diffusers_library/src/diffusers/jasper/jappie_seg.json\u001b[39m\u001b[38;5;124m'\u001b[39m)\n\u001b[1;32m     79\u001b[0m train_dataloader \u001b[38;5;241m=\u001b[39m torch\u001b[38;5;241m.\u001b[39mutils\u001b[38;5;241m.\u001b[39mdata\u001b[38;5;241m.\u001b[39mDataLoader(\n\u001b[1;32m     80\u001b[0m     train_dataset,\n\u001b[1;32m     81\u001b[0m     shuffle\u001b[38;5;241m=\u001b[39m\u001b[38;5;28;01mTrue\u001b[39;00m,\n\u001b[0;32m   (...)\u001b[0m\n\u001b[1;32m     84\u001b[0m     num_workers\u001b[38;5;241m=\u001b[39m\u001b[38;5;241m0\u001b[39m,  \u001b[38;5;66;03m# Adjust based on your setup\u001b[39;00m\n\u001b[1;32m     85\u001b[0m )\n\u001b[0;32m---> 87\u001b[0m \u001b[38;5;28mprint\u001b[39m(\u001b[43mtrain_dataset\u001b[49m\u001b[38;5;241;43m.\u001b[39;49m\u001b[43mcolumn_names\u001b[49m)\n",
      "\u001b[0;31mAttributeError\u001b[0m: 'DiffusionDataset' object has no attribute 'column_names'"
     ]
    }
   ],
   "source": [
    "import json\n",
    "import torch\n",
    "from torch.utils.data import Dataset\n",
    "from torchvision import transforms\n",
    "from PIL import Image\n",
    "from diffusers.image_processor import VaeImageProcessor\n",
    "\n",
    "\n",
    "\n",
    "class DiffusionDataset(Dataset):\n",
    "    def __init__(self, json_path):\n",
    "        with open(json_path, 'r') as f:\n",
    "            self.data = json.load(f)\n",
    "        self.image_factor_x = 360 / 320    \n",
    "        self.image_factor_y = 640 / 512\n",
    "        self.transform = transforms.Compose([\n",
    "            transforms.Resize((int(360/self.image_factor_y) , int(640/self.image_factor_x))),\n",
    "            transforms.CenterCrop((320, 512)),\n",
    "        ])\n",
    "        self.image_processor = VaeImageProcessor(vae_scale_factor=8)\n",
    "\n",
    "    def __len__(self):\n",
    "        # Assuming each set of ground truths represents a separate sample\n",
    "        return len(self.data['ground_truth'])\n",
    "\n",
    "    def __getitem__(self, idx):\n",
    "        # Processing ground truth images\n",
    "        \n",
    "        ground_truth_images = [self.transform(Image.open(path)) for path in self.data['ground_truth'][idx]]\n",
    "        ground_truth_images = self.image_processor.preprocess(image = ground_truth_images, height = 320, width = 512)\n",
    "\n",
    "        # prescan_images = [self.transform(Image.open(path)) for path in self.data['prescan_images'][idx]]\n",
    "        # prescan_images = self.image_processor.preprocess(image = prescan_images, height = 320, width = 512)\n",
    "\n",
    "        # Processing conditioning images set one (assuming RGB, 4 channels after conversion)\n",
    "        conditioning_images_one = [self.transform(Image.open(path).convert(\"RGB\")) for path in self.data['conditioning_images_one'][idx]]\n",
    "        conditioning_images_one = self.image_processor.preprocess(image = conditioning_images_one, height = 320, width = 512)\n",
    "\n",
    "        # Processing conditioning images set two (assuming grayscale, converted to RGB to match dimensions)\n",
    "        # conditioning_images_two = [self.transform(Image.open(path)) for path in self.data['conditioning_images_two'][idx]]\n",
    "        # conditioning_images_two = self.image_processor.preprocess(image = conditioning_images_two, height = 320, width = 512)\n",
    "        \n",
    "        # Concatenating condition one and two images along the channel dimension\n",
    "        # conditioned_images = [torch.cat((img_one, img_two), dim=0) for img_one, img_two in zip(conditioning_images_one, conditioning_images_two)]\n",
    "\n",
    "        # Processing reference images (single per scene, matched by index)\n",
    "        # reference_image = self.transform(Image.open(self.data['ground_truth'][idx][0]))\n",
    "\n",
    "        # Retrieving the corresponding caption\n",
    "        caption = self.data['caption'][idx][0]\n",
    "        reference_image = self.transform(Image.open(self.data['ground_truth'][idx][0]))\n",
    "\n",
    "        \n",
    "\n",
    "        return {\n",
    "            \"ground_truth\": ground_truth_images,\n",
    "            \"conditioning\": conditioning_images_one,\n",
    "            \"caption\": caption,\n",
    "            \"reference_image\": reference_image,\n",
    "            # \"prescan_images\": prescan_images\n",
    "        }\n",
    "\n",
    "def collate_fn(batch):\n",
    "    ground_truth = torch.stack([item['ground_truth'] for item in batch])\n",
    "    conditioning = torch.stack([item['conditioning'] for item in batch])\n",
    "    captions = [item['caption'] for item in batch]  # List of strings, no need to stack\n",
    "    reference_images = [item['reference_image'] for item in batch]\n",
    "    \n",
    "\n",
    "    return {\n",
    "        \"ground_truth\": ground_truth,\n",
    "        \"conditioning\": conditioning,\n",
    "        \"caption\": captions[0],\n",
    "        \"reference_image\": reference_images[0],\n",
    "    }\n",
    "\n",
    "train_dataset = DiffusionDataset(json_path='/home/wisley/custom_diffusers_library/src/diffusers/jasper/jappie_seg.json')\n",
    "\n",
    "train_dataloader = torch.utils.data.DataLoader(\n",
    "    train_dataset,\n",
    "    shuffle=True,\n",
    "    collate_fn=collate_fn,\n",
    "    batch_size=1,  # Or your preferred batch size\n",
    "    num_workers=0,  # Adjust based on your setup\n",
    ")\n",
    "\n",
    "print(train_dataset.column_names)"
   ]
  },
  {
   "cell_type": "code",
   "execution_count": 20,
   "metadata": {},
   "outputs": [
    {
     "name": "stderr",
     "output_type": "stream",
     "text": [
      "Saving the dataset (116/116 shards): 100%|██████████| 161294/161294 [1:15:50<00:00, 35.44 examples/s]\n"
     ]
    }
   ],
   "source": [
    "from datasets import Dataset, Image\n",
    "import json\n",
    "\n",
    "# Load JSON to dict\n",
    "with open('/home/wisley/custom_diffusers_library/src/diffusers/jasper/jappie_seg.json', 'r') as f:\n",
    "    my_dict = json.load(f)\n",
    "# remove the key and value \"scene_name\" from the dictionary\n",
    "my_dict.pop(\"scene_name\")\n",
    "\n",
    "# flatten all the lists in the dictionary\n",
    "for key in my_dict:\n",
    "    if key != \"scene_name\":\n",
    "        my_dict[key] = [item for sublist in my_dict[key] for item in sublist]\n",
    "    \n",
    "# repeat each caption 14 times\n",
    "my_dict[\"caption\"] = [item for sublist in my_dict[\"caption\"] for item in [sublist]*14]\n",
    "\n",
    "# Get only the first 14 elements of the dictionary\n",
    "my_dict = {k: my_dict[k] for k in my_dict}\n",
    "# my_dict = {\n",
    "#     \"train\" : my_dict\n",
    "# }\n",
    "# Create a dataset from the dictionary\n",
    "dataset_ = Dataset.from_dict(my_dict)\n",
    "\n",
    "\n",
    "# Cast columns to Image data type\n",
    "dataset_ = dataset_.cast_column(\"ground_truth\", Image())\n",
    "dataset_ = dataset_.cast_column(\"conditioning_images_one\", Image())\n",
    "\n",
    "\n",
    "# save to disk\n",
    "dataset_.save_to_disk('/mnt/d/seg_dataset_full')\n"
   ]
  },
  {
   "cell_type": "code",
   "execution_count": 18,
   "metadata": {},
   "outputs": [
    {
     "name": "stdout",
     "output_type": "stream",
     "text": [
      "0.28.0.dev0\n"
     ]
    }
   ],
   "source": [
    "import diffusers\n",
    "print(diffusers.__version__)"
   ]
  },
  {
   "cell_type": "code",
   "execution_count": 4,
   "metadata": {},
   "outputs": [
    {
     "name": "stdout",
     "output_type": "stream",
     "text": [
      "{'caption': 'A driving scene during the day, with clear weather in singapore-onenorth', 'conditioning_images_one': <PIL.PngImagePlugin.PngImageFile image mode=RGBA size=640x360 at 0x7F4078D2D520>, 'ground_truth': <PIL.PngImagePlugin.PngImageFile image mode=RGB size=640x360 at 0x7F4078D2D850>}\n",
      "(640, 360)\n"
     ]
    },
    {
     "data": {
      "image/png": "[encoded data removed]",
      "text/plain": [
       "<PIL.PngImagePlugin.PngImageFile image mode=RGBA size=640x360>"
      ]
     },
     "metadata": {},
     "output_type": "display_data"
    }
   ],
   "source": [
    "from datasets import Dataset, Image\n",
    "import json\n",
    "\n",
    "# Load the dataset \n",
    "dataset = Dataset.load_from_disk('/mnt/d/seg_dataset_full')\n",
    "\n",
    "# Print the first example\n",
    "print(dataset[0])\n",
    "\n",
    "# show the first example\n",
    "conditioning_images_one = dataset[0][\"conditioning_images_one\"]\n",
    "\n",
    "# print the size\n",
    "print(conditioning_images_one.size)\n",
    "\n",
    "conditioning_images_one.show()"
   ]
  },
  {
   "cell_type": "code",
   "execution_count": 5,
   "metadata": {},
   "outputs": [
    {
     "data": {
      "text/plain": [
       "161294"
      ]
     },
     "execution_count": 5,
     "metadata": {},
     "output_type": "execute_result"
    }
   ],
   "source": [
    "len(dataset)"
   ]
  }
 ],
 "metadata": {
  "kernelspec": {
   "display_name": "diffusers",
   "language": "python",
   "name": "python3"
  },
  "language_info": {
   "codemirror_mode": {
    "name": "ipython",
    "version": 3
   },
   "file_extension": ".py",
   "mimetype": "text/x-python",
   "name": "python",
   "nbconvert_exporter": "python",
   "pygments_lexer": "ipython3",
   "version": "3.8.19"
  }
 },
 "nbformat": 4,
 "nbformat_minor": 2
}
