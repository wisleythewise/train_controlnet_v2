{
 "cells": [
  {
   "cell_type": "code",
   "execution_count": 1,
   "metadata": {},
   "outputs": [],
   "source": [
    "# Write a function that will crop all the images in a directory to 512 x512\n",
    "\n",
    "import os\n",
    "from PIL import Image\n",
    "\n",
    "def resize_and_crop_images(directory, new_dir):\n",
    "    # Get all the files in the directory\n",
    "    files = os.listdir(directory)\n",
    "\n",
    "    # Define the desired height and width\n",
    "    target_height = 512\n",
    "    target_width = 512\n",
    "\n",
    "    # Loop through all the files\n",
    "    for file in files:\n",
    "        # Open the image\n",
    "        img = Image.open(os.path.join(directory, file))\n",
    "\n",
    "        # Calculate the aspect ratio of the original image\n",
    "        aspect_ratio = img.width / img.height\n",
    "\n",
    "        # Calculate the new width based on the desired height\n",
    "        new_width = int(target_height * aspect_ratio)\n",
    "\n",
    "        # Resize the image to the desired height and new width\n",
    "        img = img.resize((new_width, target_height))\n",
    "\n",
    "        # Calculate the coordinates for cropping\n",
    "        left = (new_width - target_width) / 2\n",
    "        top = 0  # Start cropping from the top\n",
    "        right = (new_width + target_width) / 2\n",
    "        bottom = target_height\n",
    "\n",
    "        # Crop the image to the desired size\n",
    "        img = img.crop((left, top, right, bottom))\n",
    "\n",
    "        # Save the cropped image\n",
    "        img.save(os.path.join(new_dir, file))\n"
   ]
  },
  {
   "cell_type": "code",
   "execution_count": 3,
   "metadata": {},
   "outputs": [],
   "source": [
    "dir = \"D:/nulimages_data/train/\"\n",
    "new_dir = \"D:/nulimages_data/crop/\"\n",
    "resize_and_crop_images(dir + \"groundTruth/\", new_dir + \"groundTruth/\")\n",
    "resize_and_crop_images(dir + \"mask/\", new_dir + \"mask/\")"
   ]
  },
  {
   "cell_type": "code",
   "execution_count": 3,
   "metadata": {},
   "outputs": [
    {
     "ename": "FileNotFoundError",
     "evalue": "[Errno 2] No such file or directory: 'D:/nulimages_data/validate/groundTruth/'",
     "output_type": "error",
     "traceback": [
      "\u001b[0;31m---------------------------------------------------------------------------\u001b[0m",
      "\u001b[0;31mFileNotFoundError\u001b[0m                         Traceback (most recent call last)",
      "Cell \u001b[0;32mIn[3], line 4\u001b[0m\n\u001b[1;32m      1\u001b[0m \u001b[38;5;28mdir\u001b[39m \u001b[38;5;241m=\u001b[39m \u001b[38;5;124m\"\u001b[39m\u001b[38;5;124mD:/nulimages_data/validate/\u001b[39m\u001b[38;5;124m\"\u001b[39m\n\u001b[0;32m----> 4\u001b[0m \u001b[43mresize_and_crop_images\u001b[49m\u001b[43m(\u001b[49m\u001b[38;5;28;43mdir\u001b[39;49m\u001b[43m \u001b[49m\u001b[38;5;241;43m+\u001b[39;49m\u001b[43m \u001b[49m\u001b[38;5;124;43m\"\u001b[39;49m\u001b[38;5;124;43mgroundTruth/\u001b[39;49m\u001b[38;5;124;43m\"\u001b[39;49m\u001b[43m,\u001b[49m\u001b[43m \u001b[49m\u001b[38;5;28;43mdir\u001b[39;49m\u001b[43m \u001b[49m\u001b[38;5;241;43m+\u001b[39;49m\u001b[43m \u001b[49m\u001b[38;5;124;43m\"\u001b[39;49m\u001b[38;5;124;43mgroundTruth/\u001b[39;49m\u001b[38;5;124;43m\"\u001b[39;49m\u001b[43m)\u001b[49m\n",
      "Cell \u001b[0;32mIn[1], line 8\u001b[0m, in \u001b[0;36mresize_and_crop_images\u001b[0;34m(directory, new_dir)\u001b[0m\n\u001b[1;32m      6\u001b[0m \u001b[38;5;28;01mdef\u001b[39;00m \u001b[38;5;21mresize_and_crop_images\u001b[39m(directory, new_dir):\n\u001b[1;32m      7\u001b[0m     \u001b[38;5;66;03m# Get all the files in the directory\u001b[39;00m\n\u001b[0;32m----> 8\u001b[0m     files \u001b[38;5;241m=\u001b[39m \u001b[43mos\u001b[49m\u001b[38;5;241;43m.\u001b[39;49m\u001b[43mlistdir\u001b[49m\u001b[43m(\u001b[49m\u001b[43mdirectory\u001b[49m\u001b[43m)\u001b[49m\n\u001b[1;32m     10\u001b[0m     \u001b[38;5;66;03m# Define the desired height and width\u001b[39;00m\n\u001b[1;32m     11\u001b[0m     target_height \u001b[38;5;241m=\u001b[39m \u001b[38;5;241m512\u001b[39m\n",
      "\u001b[0;31mFileNotFoundError\u001b[0m: [Errno 2] No such file or directory: 'D:/nulimages_data/validate/groundTruth/'"
     ]
    }
   ],
   "source": [
    "\n",
    "dir = \"D:/nulimages_data/validate/\"\n",
    "\n",
    "\n",
    "resize_and_crop_images(dir + \"groundTruth/\", dir + \"groundTruth/\")"
   ]
  }
 ],
 "metadata": {
  "kernelspec": {
   "display_name": "diffusers",
   "language": "python",
   "name": "python3"
  },
  "language_info": {
   "codemirror_mode": {
    "name": "ipython",
    "version": 3
   },
   "file_extension": ".py",
   "mimetype": "text/x-python",
   "name": "python",
   "nbconvert_exporter": "python",
   "pygments_lexer": "ipython3",
   "version": "3.8.18"
  }
 },
 "nbformat": 4,
 "nbformat_minor": 2
}
