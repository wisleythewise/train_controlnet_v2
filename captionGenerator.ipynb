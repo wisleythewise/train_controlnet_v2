{
 "cells": [
  {
   "cell_type": "code",
   "execution_count": 1,
   "metadata": {},
   "outputs": [
    {
     "name": "stdout",
     "output_type": "stream",
     "text": [
      "======\n",
      "Loading nuImages tables for version v1.0-train...\n",
      "Done loading in 0.001 seconds (lazy=True).\n",
      "======\n"
     ]
    }
   ],
   "source": [
    "from nuimages import NuImages\n",
    "\n",
    "nuim = NuImages(dataroot='D:/nulimages_data/nuimages-v1.0-all-metadata', version='v1.0-train', verbose=True, lazy=True)"
   ]
  },
  {
   "cell_type": "code",
   "execution_count": 29,
   "metadata": {},
   "outputs": [
    {
     "name": "stdout",
     "output_type": "stream",
     "text": [
      "Loaded 67279 sample(s) in 0.092s,\n",
      "Loaded 557715 object_ann(s) in 4.372s,\n",
      "Loaded 25 category(s) in 0.017s,\n",
      "Loaded 12 attribute(s) in 0.000s,\n"
     ]
    },
    {
     "data": {
      "text/plain": [
       "[{'category_name': 'movable_object.trafficcone', 'attribute_name': ''},\n",
       " {'category_name': 'vehicle.car', 'attribute_name': 'vehicle.parked'},\n",
       " {'category_name': 'vehicle.car', 'attribute_name': 'vehicle.parked'},\n",
       " {'category_name': 'movable_object.trafficcone', 'attribute_name': ''},\n",
       " {'category_name': 'vehicle.car', 'attribute_name': 'vehicle.parked'},\n",
       " {'category_name': 'movable_object.trafficcone', 'attribute_name': ''},\n",
       " {'category_name': 'movable_object.trafficcone', 'attribute_name': ''},\n",
       " {'category_name': 'vehicle.car', 'attribute_name': 'vehicle.parked'}]"
      ]
     },
     "execution_count": 29,
     "metadata": {},
     "output_type": "execute_result"
    }
   ],
   "source": [
    "\n",
    "from typing import Any, List, Dict, Optional, Tuple, Callable\n",
    "\n",
    "# Functien that recieves a bbox and returns if in the middle 512x512\n",
    "def get_in_cropped(bbox: List[float]) -> bool:\n",
    "    x1, y1, x2, y2 = bbox\n",
    "    return x1 > 544 and x2 < 1056 and y1 > 194 and y2 < 706\n",
    "\n",
    "\n",
    "def list_anns_jap( sample_token: str, nuim : NuImages, verbose: bool = True, in_cropped = True) -> Tuple[List[str], List[str]]:\n",
    "    anns = []\n",
    "    sample = nuim.get('sample', sample_token)\n",
    "    key_camera_token = sample['key_camera_token']\n",
    "    object_anns = [o for o in nuim.object_ann if o['sample_data_token'] == key_camera_token]\n",
    "    for object_ann in object_anns:\n",
    "\n",
    "\n",
    "        # check in in cropped\n",
    "        if in_cropped:\n",
    "            bbox = object_ann['bbox']\n",
    "            is_in_cropped = get_in_cropped(bbox)\n",
    "            if not is_in_cropped:\n",
    "                continue\n",
    "\n",
    "        category = nuim.get('category', object_ann['category_token'])\n",
    "        attribute_names = [nuim.get('attribute', at)['name'] for at in object_ann['attribute_tokens']]\n",
    "        inner_dict = {\n",
    "            \"category_name\" : category['name'],\n",
    "            \"attribute_name\" : attribute_names[0] if len(attribute_names) > 0 else \"\"\n",
    "        }\n",
    "        anns.append(inner_dict)\n",
    "    return anns\n"
   ]
  },
  {
   "cell_type": "code",
   "execution_count": null,
   "metadata": {},
   "outputs": [],
   "source": []
  },
  {
   "cell_type": "code",
   "execution_count": 16,
   "metadata": {},
   "outputs": [],
   "source": [
    "from pycocotools import mask as maskUtils\n",
    "\n",
    "\n",
    "# Decoding RLE\n",
    "# Retrieve the mask value of object_anns and surface_anns\n",
    "\n",
    "from typing import Any, List, Dict, Optional, Tuple, Callable\n",
    "\n",
    "def get_mask_of_anns(sample_token: str, nuim : NuImages, verbose: bool = True):\n",
    "    anns = []\n",
    "    sample = nuim.get('sample', sample_token)\n",
    "    key_camera_token = sample['key_camera_token']\n",
    "    object_anns = [o for o in nuim.object_ann if o['sample_data_token'] == key_camera_token]\n",
    "    surface_anns = [o for o in nuim.surface_ann if o['sample_data_token'] == key_camera_token]\n",
    "\n",
    "    for object_ann in object_anns:\n",
    "        # get the category name\n",
    "        category = nuim.get('category', object_ann['category_token'])\n",
    "        category_name = category['name']\n",
    "\n",
    "        # print category name\n",
    "        if verbose:\n",
    "            print(category_name)\n",
    "        # print the mask\n",
    "        mask = 'mask', object_ann['mask']\n",
    "        mask = maskUtils.decode(mask)\n",
    "        if verbose:\n",
    "            print(mask)\n",
    "    \n",
    "    for surface_ann in surface_anns:\n",
    "        # get the category name\n",
    "        category = nuim.get('category', surface_ann['category_token'])\n",
    "        category_name = category['name']\n",
    "\n",
    "        # print category name\n",
    "        if verbose:\n",
    "            print(category_name)\n",
    "        # print the mask\n",
    "        mask =  surface_ann['mask']\n",
    "        mask['counts'] = mask['counts'].encode('utf-8')\n",
    "        print(mask)\n",
    "        mask = maskUtils.decode(mask)\n",
    "        if verbose:\n",
    "            print(mask)\n"
   ]
  },
  {
   "cell_type": "code",
   "execution_count": 17,
   "metadata": {},
   "outputs": [
    {
     "name": "stdout",
     "output_type": "stream",
     "text": [
      "sample_token:  0000ad4e5f8440649a605e59b140bbe6\n",
      "flat.driveable_surface\n",
      "{'size': [900, 1600], 'counts': b'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'}\n"
     ]
    },
    {
     "ename": "ValueError",
     "evalue": "Invalid RLE mask representation",
     "output_type": "error",
     "traceback": [
      "\u001b[1;31m---------------------------------------------------------------------------\u001b[0m",
      "\u001b[1;31mValueError\u001b[0m                                Traceback (most recent call last)",
      "Cell \u001b[1;32mIn[17], line 6\u001b[0m\n\u001b[0;32m      4\u001b[0m sample_token \u001b[38;5;241m=\u001b[39m nuim\u001b[38;5;241m.\u001b[39msample[i][\u001b[38;5;124m'\u001b[39m\u001b[38;5;124mtoken\u001b[39m\u001b[38;5;124m'\u001b[39m]\n\u001b[0;32m      5\u001b[0m \u001b[38;5;28mprint\u001b[39m(\u001b[38;5;124m\"\u001b[39m\u001b[38;5;124msample_token: \u001b[39m\u001b[38;5;124m\"\u001b[39m, sample_token)\n\u001b[1;32m----> 6\u001b[0m \u001b[43mget_mask_of_anns\u001b[49m\u001b[43m(\u001b[49m\u001b[43msample_token\u001b[49m\u001b[43m,\u001b[49m\u001b[43m \u001b[49m\u001b[43mnuim\u001b[49m\u001b[43m,\u001b[49m\u001b[43m \u001b[49m\u001b[43mverbose\u001b[49m\u001b[38;5;241;43m=\u001b[39;49m\u001b[38;5;28;43;01mTrue\u001b[39;49;00m\u001b[43m)\u001b[49m\n\u001b[0;32m      7\u001b[0m \u001b[38;5;28mprint\u001b[39m(\u001b[38;5;124m\"\u001b[39m\u001b[38;5;124m=========================================\u001b[39m\u001b[38;5;124m\"\u001b[39m)\n",
      "Cell \u001b[1;32mIn[16], line 42\u001b[0m, in \u001b[0;36mget_mask_of_anns\u001b[1;34m(sample_token, nuim, verbose)\u001b[0m\n\u001b[0;32m     40\u001b[0m mask[\u001b[38;5;124m'\u001b[39m\u001b[38;5;124mcounts\u001b[39m\u001b[38;5;124m'\u001b[39m] \u001b[38;5;241m=\u001b[39m mask[\u001b[38;5;124m'\u001b[39m\u001b[38;5;124mcounts\u001b[39m\u001b[38;5;124m'\u001b[39m]\u001b[38;5;241m.\u001b[39mencode(\u001b[38;5;124m'\u001b[39m\u001b[38;5;124mutf-8\u001b[39m\u001b[38;5;124m'\u001b[39m)\n\u001b[0;32m     41\u001b[0m \u001b[38;5;28mprint\u001b[39m(mask)\n\u001b[1;32m---> 42\u001b[0m mask \u001b[38;5;241m=\u001b[39m \u001b[43mmaskUtils\u001b[49m\u001b[38;5;241;43m.\u001b[39;49m\u001b[43mdecode\u001b[49m\u001b[43m(\u001b[49m\u001b[43mmask\u001b[49m\u001b[43m)\u001b[49m\n\u001b[0;32m     43\u001b[0m \u001b[38;5;28;01mif\u001b[39;00m verbose:\n\u001b[0;32m     44\u001b[0m     \u001b[38;5;28mprint\u001b[39m(mask)\n",
      "File \u001b[1;32mc:\\Users\\z004v4ht\\AppData\\Local\\miniconda3\\envs\\diffusers\\lib\\site-packages\\pycocotools\\mask.py:91\u001b[0m, in \u001b[0;36mdecode\u001b[1;34m(rleObjs)\u001b[0m\n\u001b[0;32m     89\u001b[0m     \u001b[38;5;28;01mreturn\u001b[39;00m _mask\u001b[38;5;241m.\u001b[39mdecode(rleObjs)\n\u001b[0;32m     90\u001b[0m \u001b[38;5;28;01melse\u001b[39;00m:\n\u001b[1;32m---> 91\u001b[0m     \u001b[38;5;28;01mreturn\u001b[39;00m \u001b[43m_mask\u001b[49m\u001b[38;5;241;43m.\u001b[39;49m\u001b[43mdecode\u001b[49m\u001b[43m(\u001b[49m\u001b[43m[\u001b[49m\u001b[43mrleObjs\u001b[49m\u001b[43m]\u001b[49m\u001b[43m)\u001b[49m[:,:,\u001b[38;5;241m0\u001b[39m]\n",
      "File \u001b[1;32mpycocotools\\\\_mask.pyx:149\u001b[0m, in \u001b[0;36mpycocotools._mask.decode\u001b[1;34m()\u001b[0m\n",
      "\u001b[1;31mValueError\u001b[0m: Invalid RLE mask representation"
     ]
    }
   ],
   "source": [
    "# Retrieve the mask value of object_anns and surface_anns for 10 samples \n",
    "\n",
    "for i in range(10):\n",
    "    sample_token = nuim.sample[i]['token']\n",
    "    print(\"sample_token: \", sample_token)\n",
    "    get_mask_of_anns(sample_token, nuim, verbose=True)\n",
    "    print(\"=========================================\")"
   ]
  },
  {
   "cell_type": "code",
   "execution_count": 34,
   "metadata": {},
   "outputs": [
    {
     "name": "stdout",
     "output_type": "stream",
     "text": [
      "n010-2018-07-10-10-24-36+0800__CAM_FRONT__1531189590512488.jpg& In this driving scene the following objects can be observed: 3 times a pedestrian which is moving, a motorcycle which is with_rider, a pedestrian which is sitting_lying_down, a truck which is moving\n",
      "n016-2018-07-05-17-39-27+0800__CAM_FRONT__1530783609012515.jpg& In this driving scene the following objects can be observed: a bicycle which is without_rider\n",
      "n013-2018-08-20-10-52-08+0800__CAM_FRONT__1534733892262407.jpg& In this driving scene the following objects can be observed: \n",
      "n004-2018-01-03-16-11-21+0800__CAM_FRONT__1514967427247656.jpg& In this driving scene the following objects can be observed: 2 times a car which is moving\n",
      "n010-2018-09-04-15-18-55+0800__CAM_FRONT__1536045926112488.jpg& In this driving scene the following objects can be observed: 2 times a car which is moving, 3 times a pedestrian which is moving, a car which is parked, a pedestrian which is standing\n",
      "n013-2018-07-31-11-08-29+0800__CAM_FRONT__1533007069162407.jpg& In this driving scene the following objects can be observed: a truck which is moving\n",
      "n013-2018-08-21-11-46-25+0800__CAM_FRONT__1534823203112407.jpg& In this driving scene the following objects can be observed: 4 times a car which is parked, a car which is moving\n",
      "n009-2018-09-12-09-36-56-0400__CAM_FRONT__1536759888362656.jpg& In this driving scene the following objects can be observed: a car which is parked, a car which is moving, a truck which is parked\n",
      "n013-2018-07-30-10-59-08+0800__CAM_FRONT__1532919709762407.jpg& In this driving scene the following objects can be observed: 7 times a barrier, a trafficcone, a truck which is moving\n",
      "n009-2018-09-12-09-07-31-0400__CAM_FRONT__1536759315412656.jpg& In this driving scene the following objects can be observed: a truck which is parked, 2 times a car which is moving, 5 times a car which is parked, a truck which is moving\n",
      "n016-2018-07-11-15-26-55+0800__CAM_FRONT__1531294056112515.jpg& In this driving scene the following objects can be observed: a car which is moving, a motorcycle which is without_rider, 2 times a truck which is parked, a car which is parked, a pedestrian which is standing\n",
      "n013-2018-08-20-14-38-24+0800__CAM_FRONT__1534747879362407.jpg& In this driving scene the following objects can be observed: \n",
      "n003-2018-07-12-15-40-35+0800__CAM_FRONT__1531385085612871.jpg& In this driving scene the following objects can be observed: 3 times a car which is moving, a pedestrian which is standing, a bus which is stopped\n",
      "n008-2018-09-18-13-41-50-0400__CAM_FRONT__1537293204662404.jpg& In this driving scene the following objects can be observed: a pedestrian which is standing, a car which is moving\n",
      "n015-2018-09-05-11-47-58+0800__CAM_FRONT__1536119431162460.jpg& In this driving scene the following objects can be observed: a pedestrian which is moving\n",
      "n015-2018-07-11-10-20-49+0800__CAM_FRONT__1531275855512460.jpg& In this driving scene the following objects can be observed: 2 times a trafficcone, 5 times a barrier, a car which is moving, a pedestrian which is moving\n",
      "n013-2018-08-02-14-08-14+0800__CAM_FRONT__1533190671862407.jpg& In this driving scene the following objects can be observed: a bicycle which is without_rider\n",
      "n016-2018-07-05-17-39-27+0800__CAM_FRONT__1530783820362515.jpg& In this driving scene the following objects can be observed: a pedestrian which is standing, a trafficcone, a pedestrian which is moving\n",
      "n016-2018-07-13-14-39-53+0800__CAM_FRONT__1531464145762515.jpg& In this driving scene the following objects can be observed: a car which is parked, a motorcycle which is with_rider\n",
      "n016-2018-07-05-11-51-25+0800__CAM_FRONT__1530762844862515.jpg& In this driving scene the following objects can be observed: a truck which is moving, a motorcycle which is with_rider\n",
      "n013-2018-08-20-14-38-24+0800__CAM_FRONT__1534747464862407.jpg& In this driving scene the following objects can be observed: 4 times a trafficcone\n",
      "n016-2018-07-11-14-10-01+0800__CAM_FRONT__1531290016012515.jpg& In this driving scene the following objects can be observed: a pedestrian which is moving, a bus which is parked, a car which is parked\n",
      "n008-2018-06-05-11-43-04-0400__CAM_FRONT__1528213821612465.jpg& In this driving scene the following objects can be observed: 12 times a car which is parked, 4 times a car which is moving\n",
      "n008-2018-07-27-12-27-03-0400__CAM_FRONT__1532708922362404.jpg& In this driving scene the following objects can be observed: 2 times a car which is moving, a truck which is moving\n",
      "n013-2018-08-01-12-04-35+0800__CAM_FRONT__1533096343012407.jpg& In this driving scene the following objects can be observed: 2 times a car which is moving, 6 times a pedestrian which is moving, a bus which is moving, a truck which is moving\n",
      "n015-2018-09-05-14-42-03+0800__CAM_FRONT__1536130109162460.jpg& In this driving scene the following objects can be observed: 3 times a trafficcone, a truck which is parked, 2 times a car which is stopped\n",
      "n010-2018-08-28-11-42-19+0800__CAM_FRONT__1535428036362488.jpg& In this driving scene the following objects can be observed: 2 times a pedestrian which is moving\n",
      "n013-2018-08-02-13-54-05+0800__CAM_FRONT__1533189864662407.jpg& In this driving scene the following objects can be observed: a bus which is moving\n",
      "n005-2018-06-14-20-11-03+0800__CAM_FRONT__1528978278762311.jpg& In this driving scene the following objects can be observed: \n",
      "n016-2018-07-05-11-51-25+0800__CAM_FRONT__1530762922362515.jpg& In this driving scene the following objects can be observed: a car which is moving, 3 times a pedestrian which is moving\n",
      "n010-2018-07-05-14-21-00+0800__CAM_FRONT__1530772029862488.jpg& In this driving scene the following objects can be observed: a truck which is moving, 2 times a pedestrian which is moving, 4 times a trafficcone, a car which is parked, a car which is moving, a car which is stopped, a barrier\n",
      "n013-2018-07-31-12-08-43+0800__CAM_FRONT__1533010347512407.jpg& In this driving scene the following objects can be observed: \n",
      "n013-2018-08-17-11-41-53+0800__CAM_FRONT__1534477971262407.jpg& In this driving scene the following objects can be observed: 2 times a car which is moving, 6 times a pedestrian which is moving\n",
      "n013-2018-09-03-14-19-07+0800__CAM_FRONT__1535955551112407.jpg& In this driving scene the following objects can be observed: 2 times a pedestrian which is standing, a pedestrian which is sitting_lying_down, 3 times a pedestrian which is moving\n"
     ]
    },
    {
     "ename": "KeyboardInterrupt",
     "evalue": "",
     "output_type": "error",
     "traceback": [
      "\u001b[1;31m---------------------------------------------------------------------------\u001b[0m",
      "\u001b[1;31mKeyboardInterrupt\u001b[0m                         Traceback (most recent call last)",
      "Cell \u001b[1;32mIn[34], line 16\u001b[0m\n\u001b[0;32m     12\u001b[0m \u001b[38;5;28;01mif\u001b[39;00m \u001b[38;5;129;01mnot\u001b[39;00m condition:\n\u001b[0;32m     13\u001b[0m     \u001b[38;5;28;01mcontinue\u001b[39;00m\n\u001b[1;32m---> 16\u001b[0m annotations \u001b[38;5;241m=\u001b[39m \u001b[43mlist_anns_jap\u001b[49m\u001b[43m(\u001b[49m\u001b[43msample\u001b[49m\u001b[43m[\u001b[49m\u001b[38;5;124;43m'\u001b[39;49m\u001b[38;5;124;43mtoken\u001b[39;49m\u001b[38;5;124;43m'\u001b[39;49m\u001b[43m]\u001b[49m\u001b[43m,\u001b[49m\u001b[43m \u001b[49m\u001b[43mnuim\u001b[49m\u001b[43m,\u001b[49m\u001b[43m \u001b[49m\u001b[38;5;28;43;01mTrue\u001b[39;49;00m\u001b[43m)\u001b[49m\n\u001b[0;32m     17\u001b[0m \u001b[38;5;28;01mfor\u001b[39;00m annotation \u001b[38;5;129;01min\u001b[39;00m annotations:\n\u001b[0;32m     18\u001b[0m     \n\u001b[0;32m     19\u001b[0m     \u001b[38;5;66;03m# Get the category name for this annotation.\u001b[39;00m\n\u001b[0;32m     20\u001b[0m     category_name \u001b[38;5;241m=\u001b[39m annotation[\u001b[38;5;124m'\u001b[39m\u001b[38;5;124mcategory_name\u001b[39m\u001b[38;5;124m'\u001b[39m]\n",
      "Cell \u001b[1;32mIn[29], line 21\u001b[0m, in \u001b[0;36mlist_anns_jap\u001b[1;34m(sample_token, nuim, verbose, in_cropped)\u001b[0m\n\u001b[0;32m     19\u001b[0m \u001b[38;5;28;01mif\u001b[39;00m in_cropped:\n\u001b[0;32m     20\u001b[0m     bbox \u001b[38;5;241m=\u001b[39m object_ann[\u001b[38;5;124m'\u001b[39m\u001b[38;5;124mbbox\u001b[39m\u001b[38;5;124m'\u001b[39m]\n\u001b[1;32m---> 21\u001b[0m     is_in_cropped \u001b[38;5;241m=\u001b[39m \u001b[43mget_in_cropped\u001b[49m(bbox)\n\u001b[0;32m     22\u001b[0m     \u001b[38;5;28;01mif\u001b[39;00m \u001b[38;5;129;01mnot\u001b[39;00m is_in_cropped:\n\u001b[0;32m     23\u001b[0m         \u001b[38;5;28;01mcontinue\u001b[39;00m\n",
      "\u001b[1;31mKeyboardInterrupt\u001b[0m: "
     ]
    }
   ],
   "source": [
    "scene_captions = []\n",
    "for sample in nuim.sample:\n",
    "\n",
    "    frame_captions_dict = {}\n",
    "\n",
    "    \n",
    "    sample_token = nuim.get('sample_data', sample['key_camera_token'])\n",
    "    filename = sample_token['filename'].split(\"/\")[-1]\n",
    "\n",
    "    # Check if there is file name contains CAM_FRONT and len(.split(_)) ==2\n",
    "    condition = \"FRONT\" in filename and \"LEFT\" not in filename and \"RIGHT\" not in filename\n",
    "    if not condition:\n",
    "        continue\n",
    "\n",
    "        \n",
    "    annotations = list_anns_jap(sample['token'], nuim, True)\n",
    "    for annotation in annotations:\n",
    "        \n",
    "        # Get the category name for this annotation.\n",
    "        category_name = annotation['category_name']\n",
    "\n",
    "        # Check if the anootation is in the middle cropped frame op 512x512\n",
    "        \n",
    "\n",
    "        # Get the right part of the category name and the attribute name for this annotation.\n",
    "        if len(category_name.split(\".\")) > 1:\n",
    "            category_name = category_name.split('.')[1]\n",
    "\n",
    "        if category_name == 'construction':\n",
    "            category_name = 'construction vehicle'\n",
    "\n",
    "            \n",
    "        \n",
    "        # Get the attribute name for this annotation.\n",
    "        if annotation[\"attribute_name\"] != \"\":\n",
    "            attribute_name = annotation[\"attribute_name\"].split('.')[1]\n",
    "            # Combine all the information into a single string.\n",
    "            caption = 'a {} which is {}'.format(category_name, attribute_name)\n",
    "        else:\n",
    "            caption = 'a {}'.format(category_name)\n",
    "\n",
    "        # Add this caption to the frame captions.\n",
    "        if caption in frame_captions_dict:\n",
    "            frame_captions_dict[caption] += 1\n",
    "        else:\n",
    "            frame_captions_dict[caption] = 1\n",
    "    \n",
    "    \n",
    "    # Combine all the frame captions into a single string.\n",
    "    frame_captions_list = []\n",
    "\n",
    "    for caption, count in frame_captions_dict.items():\n",
    "        if count > 1:\n",
    "            frame_captions_list.append('{} times {}'.format(count, caption))\n",
    "        else:\n",
    "            frame_captions_list.append(caption)\n",
    "    \n",
    "    frame_caption = ', '.join(frame_captions_list)\n",
    "\n",
    "    # Add this frame caption to the scene captions.\n",
    "    scene_caption = '{}& In this driving scene the following objects can be observed: {}'.format(filename, frame_caption)\n",
    "    scene_captions.append(scene_caption)\n",
    "\n",
    "\n",
    "print(\"hoi\")\n",
    "for i, scene_caption in enumerate(scene_captions):\n",
    "    filename = scene_caption.split('&')[0].split('.')[0]\n",
    "    filename = f'{filename}.txt'\n",
    "    path = \"D:/nulimages_data/crop/caption/\" + filename\n",
    "\n",
    "    with open(path, 'w') as f:\n",
    "        f.write(scene_caption.split('&')[1])\n"
   ]
  }
 ],
 "metadata": {
  "kernelspec": {
   "display_name": "diffusers",
   "language": "python",
   "name": "python3"
  },
  "language_info": {
   "codemirror_mode": {
    "name": "ipython",
    "version": 3
   },
   "file_extension": ".py",
   "mimetype": "text/x-python",
   "name": "python",
   "nbconvert_exporter": "python",
   "pygments_lexer": "ipython3",
   "version": "3.8.18"
  }
 },
 "nbformat": 4,
 "nbformat_minor": 2
}
